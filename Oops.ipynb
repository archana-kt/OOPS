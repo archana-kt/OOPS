{
 "cells": [
  {
   "cell_type": "markdown",
   "id": "8409a036",
   "metadata": {},
   "source": [
    "# OOPS"
   ]
  },
  {
   "cell_type": "code",
   "execution_count": 1,
   "id": "cae7469f",
   "metadata": {},
   "outputs": [],
   "source": [
    "def getdata(name, age, city):\n",
    "    print(\"Name: \", name)\n",
    "    print(\"Age: \", age)\n",
    "    print(\"City: \", city)"
   ]
  },
  {
   "cell_type": "code",
   "execution_count": 2,
   "id": "dc252818",
   "metadata": {},
   "outputs": [
    {
     "name": "stdout",
     "output_type": "stream",
     "text": [
      "Name:  Arch\n",
      "Age:  22\n",
      "City:  Salem\n"
     ]
    }
   ],
   "source": [
    "getdata(\"Arch\", 22, \"Salem\")"
   ]
  },
  {
   "cell_type": "code",
   "execution_count": 4,
   "id": "795031ce",
   "metadata": {},
   "outputs": [],
   "source": [
    "class person:\n",
    "    def getdata(name, age, city):\n",
    "        print(\"Name: \", name)\n",
    "        print(\"Age: \", age)\n",
    "        print(\"City: \", city)"
   ]
  },
  {
   "cell_type": "code",
   "execution_count": 5,
   "id": "a5428ce7",
   "metadata": {},
   "outputs": [],
   "source": [
    "# Object is required to access the method of class"
   ]
  },
  {
   "cell_type": "code",
   "execution_count": 6,
   "id": "2f8fc3dd",
   "metadata": {},
   "outputs": [],
   "source": [
    "p = person()"
   ]
  },
  {
   "cell_type": "code",
   "execution_count": 7,
   "id": "a1e9ca13",
   "metadata": {},
   "outputs": [
    {
     "data": {
      "text/plain": [
       "<__main__.person at 0x7fcb79731c10>"
      ]
     },
     "execution_count": 7,
     "metadata": {},
     "output_type": "execute_result"
    }
   ],
   "source": [
    "p"
   ]
  },
  {
   "cell_type": "code",
   "execution_count": 8,
   "id": "f32c0c7f",
   "metadata": {},
   "outputs": [
    {
     "data": {
      "text/plain": [
       "<bound method person.getdata of <__main__.person object at 0x7fcb79731c10>>"
      ]
     },
     "execution_count": 8,
     "metadata": {},
     "output_type": "execute_result"
    }
   ],
   "source": [
    "p.getdata"
   ]
  },
  {
   "cell_type": "code",
   "execution_count": 9,
   "id": "a572abe9",
   "metadata": {},
   "outputs": [],
   "source": [
    "p.getdata?"
   ]
  },
  {
   "cell_type": "raw",
   "id": "9a514242",
   "metadata": {},
   "source": [
    "Signature: p.getdata(age, city)\n",
    "Docstring: <no docstring>\n",
    "File:      /var/folders/5f/zvvxs6012zn4htwxbbkh2mvh0000gn/T/ipykernel_921/3484093215.py\n",
    "Type:      method"
   ]
  },
  {
   "cell_type": "code",
   "execution_count": 10,
   "id": "becb4e03",
   "metadata": {},
   "outputs": [],
   "source": [
    "# see here name is not mentioned in the signature"
   ]
  },
  {
   "cell_type": "code",
   "execution_count": 11,
   "id": "d698fee6",
   "metadata": {},
   "outputs": [],
   "source": [
    "class person:\n",
    "    def getdata(self, name, age, city):\n",
    "        self.name = name\n",
    "        self.age = age\n",
    "        self.city = city\n",
    "        \n",
    "    def display(self):\n",
    "        print(\"Name: \", self.name)\n",
    "        print(\"Age: \", self.age)\n",
    "        print(\"City: \", self.city)"
   ]
  },
  {
   "cell_type": "code",
   "execution_count": 12,
   "id": "031e6ece",
   "metadata": {},
   "outputs": [],
   "source": [
    "p = person()"
   ]
  },
  {
   "cell_type": "code",
   "execution_count": 13,
   "id": "212bb80a",
   "metadata": {},
   "outputs": [
    {
     "data": {
      "text/plain": [
       "<__main__.person at 0x7fcb79731550>"
      ]
     },
     "execution_count": 13,
     "metadata": {},
     "output_type": "execute_result"
    }
   ],
   "source": [
    "p"
   ]
  },
  {
   "cell_type": "code",
   "execution_count": 14,
   "id": "7c534566",
   "metadata": {},
   "outputs": [
    {
     "data": {
      "text/plain": [
       "<bound method person.display of <__main__.person object at 0x7fcb79731550>>"
      ]
     },
     "execution_count": 14,
     "metadata": {},
     "output_type": "execute_result"
    }
   ],
   "source": [
    "p.display"
   ]
  },
  {
   "cell_type": "code",
   "execution_count": 15,
   "id": "d5256071",
   "metadata": {},
   "outputs": [
    {
     "data": {
      "text/plain": [
       "<bound method person.getdata of <__main__.person object at 0x7fcb79731550>>"
      ]
     },
     "execution_count": 15,
     "metadata": {},
     "output_type": "execute_result"
    }
   ],
   "source": [
    "p.getdata"
   ]
  },
  {
   "cell_type": "code",
   "execution_count": 16,
   "id": "e8a7b374",
   "metadata": {},
   "outputs": [],
   "source": [
    "# Now both are becoming as bound method"
   ]
  },
  {
   "cell_type": "code",
   "execution_count": 17,
   "id": "52f8b389",
   "metadata": {},
   "outputs": [],
   "source": [
    "p.getdata(\"Arc\",22,\"Salem\")"
   ]
  },
  {
   "cell_type": "code",
   "execution_count": 19,
   "id": "4911eafc",
   "metadata": {},
   "outputs": [
    {
     "name": "stdout",
     "output_type": "stream",
     "text": [
      "Name:  Arc\n",
      "Age:  22\n",
      "City:  Salem\n"
     ]
    }
   ],
   "source": [
    "p.display()"
   ]
  },
  {
   "cell_type": "code",
   "execution_count": 20,
   "id": "908a85d9",
   "metadata": {},
   "outputs": [],
   "source": [
    "# accessing the methods of a class can be possible by use of class"
   ]
  },
  {
   "cell_type": "code",
   "execution_count": 21,
   "id": "e7481878",
   "metadata": {},
   "outputs": [],
   "source": [
    "p.getdata?"
   ]
  },
  {
   "cell_type": "raw",
   "id": "f4344c81",
   "metadata": {},
   "source": [
    "Signature: p.getdata(name, age, city)\n",
    "Docstring: <no docstring>\n",
    "File:      /var/folders/5f/zvvxs6012zn4htwxbbkh2mvh0000gn/T/ipykernel_921/2879300053.py\n",
    "Type:      method"
   ]
  },
  {
   "cell_type": "code",
   "execution_count": 22,
   "id": "7a6aefa0",
   "metadata": {},
   "outputs": [],
   "source": [
    "p.display?"
   ]
  },
  {
   "cell_type": "raw",
   "id": "0f10d52b",
   "metadata": {},
   "source": [
    "Signature: p.display()\n",
    "Docstring: <no docstring>"
   ]
  },
  {
   "cell_type": "code",
   "execution_count": 23,
   "id": "e88cd46c",
   "metadata": {},
   "outputs": [],
   "source": [
    "person.getdata?"
   ]
  },
  {
   "cell_type": "raw",
   "id": "8304e90a",
   "metadata": {},
   "source": [
    "Signature: person.getdata(self, name, age, city)\n",
    "Docstring: <no docstring>"
   ]
  },
  {
   "cell_type": "code",
   "execution_count": 24,
   "id": "14603b58",
   "metadata": {},
   "outputs": [],
   "source": [
    "# See here it includes self also as a parameter"
   ]
  },
  {
   "cell_type": "code",
   "execution_count": 25,
   "id": "f4730d6a",
   "metadata": {},
   "outputs": [],
   "source": [
    "p1 = person()"
   ]
  },
  {
   "cell_type": "code",
   "execution_count": 27,
   "id": "1995a437",
   "metadata": {},
   "outputs": [],
   "source": [
    "p1.getdata?"
   ]
  },
  {
   "cell_type": "raw",
   "id": "c0d948c0",
   "metadata": {},
   "source": [
    "Signature: p1.getdata(name, age, city)\n",
    "Docstring: <no docstring>"
   ]
  },
  {
   "cell_type": "code",
   "execution_count": 28,
   "id": "b324d218",
   "metadata": {},
   "outputs": [],
   "source": [
    "person.getdata?"
   ]
  },
  {
   "cell_type": "raw",
   "id": "204a8ab0",
   "metadata": {},
   "source": [
    "Signature: person.getdata(self, name, age, city)\n",
    "Docstring: <no docstring>"
   ]
  },
  {
   "cell_type": "code",
   "execution_count": 29,
   "id": "409e708f",
   "metadata": {},
   "outputs": [],
   "source": [
    "person.getdata(p1, \"Mani\", 21, \"Coimbatore\")"
   ]
  },
  {
   "cell_type": "code",
   "execution_count": 30,
   "id": "a88904f5",
   "metadata": {},
   "outputs": [
    {
     "name": "stdout",
     "output_type": "stream",
     "text": [
      "Name:  Mani\n",
      "Age:  21\n",
      "City:  Coimbatore\n"
     ]
    }
   ],
   "source": [
    "p1.display()"
   ]
  },
  {
   "cell_type": "code",
   "execution_count": 31,
   "id": "06a2afd9",
   "metadata": {},
   "outputs": [
    {
     "name": "stdout",
     "output_type": "stream",
     "text": [
      "Name:  Arc\n",
      "Age:  22\n",
      "City:  Salem\n"
     ]
    }
   ],
   "source": [
    "person.display(p)"
   ]
  },
  {
   "cell_type": "code",
   "execution_count": 32,
   "id": "e2ab0d77",
   "metadata": {},
   "outputs": [
    {
     "name": "stdout",
     "output_type": "stream",
     "text": [
      "Name:  Mani\n",
      "Age:  21\n",
      "City:  Coimbatore\n"
     ]
    }
   ],
   "source": [
    "person.display(p1)"
   ]
  },
  {
   "cell_type": "code",
   "execution_count": 33,
   "id": "ab9706a1",
   "metadata": {},
   "outputs": [],
   "source": [
    "p2 = person()"
   ]
  },
  {
   "cell_type": "code",
   "execution_count": 34,
   "id": "1b5dfd4a",
   "metadata": {},
   "outputs": [],
   "source": [
    "p2.getdata?"
   ]
  },
  {
   "cell_type": "raw",
   "id": "36c263f7",
   "metadata": {},
   "source": [
    "Signature: p2.getdata(name, age, city)\n",
    "Docstring: <no docstring>"
   ]
  },
  {
   "cell_type": "code",
   "execution_count": 35,
   "id": "bcd0bde5",
   "metadata": {},
   "outputs": [],
   "source": [
    "p2.getdata(\"Kalp\",45, \"Chennai\")"
   ]
  },
  {
   "cell_type": "code",
   "execution_count": 36,
   "id": "4d70dae3",
   "metadata": {},
   "outputs": [
    {
     "name": "stdout",
     "output_type": "stream",
     "text": [
      "Name:  Kalp\n",
      "Age:  45\n",
      "City:  Chennai\n"
     ]
    }
   ],
   "source": [
    "p2.display()"
   ]
  },
  {
   "cell_type": "code",
   "execution_count": 37,
   "id": "5154294f",
   "metadata": {},
   "outputs": [
    {
     "data": {
      "text/plain": [
       "'Kalp'"
      ]
     },
     "execution_count": 37,
     "metadata": {},
     "output_type": "execute_result"
    }
   ],
   "source": [
    "p2.name"
   ]
  },
  {
   "cell_type": "code",
   "execution_count": 38,
   "id": "c473d858",
   "metadata": {},
   "outputs": [
    {
     "data": {
      "text/plain": [
       "'Coimbatore'"
      ]
     },
     "execution_count": 38,
     "metadata": {},
     "output_type": "execute_result"
    }
   ],
   "source": [
    "p1.city"
   ]
  },
  {
   "cell_type": "code",
   "execution_count": 39,
   "id": "4d92fdac",
   "metadata": {},
   "outputs": [
    {
     "data": {
      "text/plain": [
       "'Kalp'"
      ]
     },
     "execution_count": 39,
     "metadata": {},
     "output_type": "execute_result"
    }
   ],
   "source": [
    "p2.name"
   ]
  }
 ],
 "metadata": {
  "kernelspec": {
   "display_name": "Python 3 (ipykernel)",
   "language": "python",
   "name": "python3"
  },
  "language_info": {
   "codemirror_mode": {
    "name": "ipython",
    "version": 3
   },
   "file_extension": ".py",
   "mimetype": "text/x-python",
   "name": "python",
   "nbconvert_exporter": "python",
   "pygments_lexer": "ipython3",
   "version": "3.9.7"
  }
 },
 "nbformat": 4,
 "nbformat_minor": 5
}
