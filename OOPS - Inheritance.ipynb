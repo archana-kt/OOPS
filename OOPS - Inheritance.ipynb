{
 "cells": [
  {
   "cell_type": "markdown",
   "id": "7596f43e",
   "metadata": {},
   "source": [
    "# Inheritance"
   ]
  },
  {
   "cell_type": "markdown",
   "id": "8fee59c2",
   "metadata": {},
   "source": [
    "# Multiple Inheritance"
   ]
  },
  {
   "cell_type": "code",
   "execution_count": 2,
   "id": "6ccc0ade",
   "metadata": {},
   "outputs": [],
   "source": [
    "class A:\n",
    "    def getdataA(self):\n",
    "        print(\"method getdataA from A\")"
   ]
  },
  {
   "cell_type": "code",
   "execution_count": 3,
   "id": "2c28e487",
   "metadata": {},
   "outputs": [],
   "source": [
    "class B:\n",
    "    def getdataB(self):\n",
    "        print(\"method getdataB from B\")"
   ]
  },
  {
   "cell_type": "code",
   "execution_count": 4,
   "id": "42387287",
   "metadata": {},
   "outputs": [],
   "source": [
    "class C(B,A):\n",
    "    def getdataC(self):\n",
    "        print(\"method getdataC from C\")"
   ]
  },
  {
   "cell_type": "code",
   "execution_count": 6,
   "id": "225fab00",
   "metadata": {},
   "outputs": [],
   "source": [
    "obj = C()"
   ]
  },
  {
   "cell_type": "code",
   "execution_count": 7,
   "id": "3635bdca",
   "metadata": {},
   "outputs": [
    {
     "name": "stdout",
     "output_type": "stream",
     "text": [
      "method getdataA from A\n"
     ]
    }
   ],
   "source": [
    "obj.getdataA()"
   ]
  },
  {
   "cell_type": "code",
   "execution_count": 8,
   "id": "a55bd44a",
   "metadata": {},
   "outputs": [
    {
     "name": "stdout",
     "output_type": "stream",
     "text": [
      "method getdataB from B\n"
     ]
    }
   ],
   "source": [
    "obj.getdataB()"
   ]
  },
  {
   "cell_type": "code",
   "execution_count": 9,
   "id": "5a579de6",
   "metadata": {},
   "outputs": [
    {
     "name": "stdout",
     "output_type": "stream",
     "text": [
      "method getdataC from C\n"
     ]
    }
   ],
   "source": [
    "obj.getdataC()"
   ]
  },
  {
   "cell_type": "markdown",
   "id": "ecaf19e0",
   "metadata": {},
   "source": [
    "# Multilevel Inheritance"
   ]
  },
  {
   "cell_type": "code",
   "execution_count": 10,
   "id": "b71e1cd3",
   "metadata": {},
   "outputs": [],
   "source": [
    "class A:\n",
    "    def getdataA(self):\n",
    "        print(\"method getdataA from A\")\n",
    "        \n",
    "class B(A):\n",
    "    pass\n",
    "\n",
    "class C(B):\n",
    "    pass"
   ]
  },
  {
   "cell_type": "code",
   "execution_count": 11,
   "id": "244f403c",
   "metadata": {},
   "outputs": [],
   "source": [
    "obj = C()"
   ]
  },
  {
   "cell_type": "code",
   "execution_count": 12,
   "id": "02209625",
   "metadata": {},
   "outputs": [
    {
     "name": "stdout",
     "output_type": "stream",
     "text": [
      "method getdataA from A\n"
     ]
    }
   ],
   "source": [
    "obj.getdataA()"
   ]
  },
  {
   "cell_type": "code",
   "execution_count": 13,
   "id": "ffe90b40",
   "metadata": {},
   "outputs": [],
   "source": [
    "C.mro?"
   ]
  },
  {
   "cell_type": "raw",
   "id": "53845045",
   "metadata": {},
   "source": [
    "Signature: C.mro()\n",
    "Docstring: Return a type's method resolution order."
   ]
  },
  {
   "cell_type": "code",
   "execution_count": 14,
   "id": "e106f271",
   "metadata": {},
   "outputs": [],
   "source": [
    "# Method resolution operator is used to check the order of it's class inheritance"
   ]
  },
  {
   "cell_type": "code",
   "execution_count": 15,
   "id": "e548f7ef",
   "metadata": {},
   "outputs": [
    {
     "data": {
      "text/plain": [
       "[__main__.C, __main__.B, __main__.A, object]"
      ]
     },
     "execution_count": 15,
     "metadata": {},
     "output_type": "execute_result"
    }
   ],
   "source": [
    "C.mro() # see 1st C, next class B, then class A"
   ]
  },
  {
   "cell_type": "code",
   "execution_count": 22,
   "id": "fbeaa9fd",
   "metadata": {},
   "outputs": [],
   "source": [
    "class A():\n",
    "    def getdataA(self):\n",
    "        print(\"method getdataA from A\")\n",
    "        \n",
    "class B(A):\n",
    "    def getdataB(self):\n",
    "        print(\"method getdataB from B\")\n",
    "        \n",
    "class C(B):\n",
    "    def getdataC(self):\n",
    "        pass"
   ]
  },
  {
   "cell_type": "code",
   "execution_count": 23,
   "id": "afa605e1",
   "metadata": {},
   "outputs": [],
   "source": [
    "obj = C()"
   ]
  },
  {
   "cell_type": "code",
   "execution_count": 24,
   "id": "8931792c",
   "metadata": {},
   "outputs": [
    {
     "name": "stdout",
     "output_type": "stream",
     "text": [
      "method getdataB from B\n"
     ]
    }
   ],
   "source": [
    "obj.getdataB()"
   ]
  },
  {
   "cell_type": "code",
   "execution_count": 25,
   "id": "20a69f81",
   "metadata": {},
   "outputs": [],
   "source": [
    "obj.getdataC()"
   ]
  },
  {
   "cell_type": "code",
   "execution_count": 26,
   "id": "94bef844",
   "metadata": {},
   "outputs": [
    {
     "name": "stdout",
     "output_type": "stream",
     "text": [
      "method getdataA from A\n"
     ]
    }
   ],
   "source": [
    "obj.getdataA()"
   ]
  },
  {
   "cell_type": "code",
   "execution_count": 27,
   "id": "e1562e75",
   "metadata": {},
   "outputs": [
    {
     "data": {
      "text/plain": [
       "[__main__.C, __main__.B, __main__.A, object]"
      ]
     },
     "execution_count": 27,
     "metadata": {},
     "output_type": "execute_result"
    }
   ],
   "source": [
    "C.mro()"
   ]
  },
  {
   "cell_type": "code",
   "execution_count": null,
   "id": "7c3f9f20",
   "metadata": {},
   "outputs": [],
   "source": []
  },
  {
   "cell_type": "code",
   "execution_count": null,
   "id": "01700776",
   "metadata": {},
   "outputs": [],
   "source": []
  },
  {
   "cell_type": "code",
   "execution_count": null,
   "id": "5fba3ffa",
   "metadata": {},
   "outputs": [],
   "source": []
  }
 ],
 "metadata": {
  "kernelspec": {
   "display_name": "Python 3 (ipykernel)",
   "language": "python",
   "name": "python3"
  },
  "language_info": {
   "codemirror_mode": {
    "name": "ipython",
    "version": 3
   },
   "file_extension": ".py",
   "mimetype": "text/x-python",
   "name": "python",
   "nbconvert_exporter": "python",
   "pygments_lexer": "ipython3",
   "version": "3.9.7"
  }
 },
 "nbformat": 4,
 "nbformat_minor": 5
}
